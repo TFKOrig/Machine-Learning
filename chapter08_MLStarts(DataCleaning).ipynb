{
 "cells": [
  {
   "cell_type": "markdown",
   "metadata": {},
   "source": [
    "Data should be well formatted if not the machine will not be efficiently trained\n",
    "\n",
    "Catergorical Variables:\n",
    "Ordinal:has rank   e.g  good,nice,great,fantastic\n",
    "\n",
    "Nominal:has no rank e.g python,java,C++,C#\n",
    "    /        2 types         \\\n",
    "    Binomial          multinomial  \n",
    "\n",
    "Numerical Variables:\n",
    "Discrete: No decimal        10,20,50,60\n",
    "Continuous: has decimal but counted as exact value not float 1.1,2.1,3.1\n",
    "\n",
    "decimals are not taken as float but as exact values"
   ]
  },
  {
   "cell_type": "markdown",
   "metadata": {},
   "source": [
    "\n"
   ]
  }
 ],
 "metadata": {
  "language_info": {
   "name": "python"
  }
 },
 "nbformat": 4,
 "nbformat_minor": 2
}
